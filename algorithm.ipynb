{
 "cells": [
  {
   "attachments": {},
   "cell_type": "markdown",
   "metadata": {},
   "source": [
    "## 전체 프로세스\n",
    "![image.png](./img/total_process.png)"
   ]
  },
  {
   "attachments": {},
   "cell_type": "markdown",
   "metadata": {},
   "source": [
    "### DATASET\n",
    "1. IN792SX\n",
    "991장 원본 이미지, Segmentation 정답지 이미지 gamma상 – 52 장 /eta 상 - 3장, \n",
    "2. IN792SX Interrupt\n",
    "1005장 원본 이미지 gamma상\n",
    "3. CM939W \n",
    "659장 원본 이미지 gamma상\n",
    "![image.png](./img/dataset.png)"
   ]
  },
  {
   "attachments": {},
   "cell_type": "markdown",
   "metadata": {},
   "source": [
    "### Segmentation Model 구조\n",
    "![image.png](./img/segmentation.png)\n",
    "### 야금학적 특징 추출 방법 \n",
    "![image-2.png](./img/feature_extracting.png)\n",
    "### 열화수준예측에 사용되는 변수\n",
    "![image-3.png](./img/regression_variable.png)\n",
    "### 열화수준예측을 위한 transformer 구조 \n",
    "![image-4.png](./img/transformer.png)"
   ]
  }
 ],
 "metadata": {
  "language_info": {
   "name": "python"
  },
  "orig_nbformat": 4
 },
 "nbformat": 4,
 "nbformat_minor": 2
}
